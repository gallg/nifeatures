{
 "cells": [
  {
   "cell_type": "markdown",
   "metadata": {},
   "source": [
    "### Displacement Invariant Transformer (**Simple** usage example)\n",
    "\n",
    "for more complex usage, please check the documentation: *ToDo: add documentation*"
   ]
  },
  {
   "cell_type": "code",
   "execution_count": 1,
   "metadata": {
    "ExecuteTime": {
     "end_time": "2023-09-22T15:38:49.255860866Z",
     "start_time": "2023-09-22T15:38:48.294146282Z"
    }
   },
   "outputs": [],
   "source": [
    "import os\n",
    "os.chdir(\"..\")\n",
    "\n",
    "from nifeatures.transform import DisplacementInvariantTransformer\n",
    "from nifeatures.search import TransformerCV\n",
    "from nilearn.datasets import load_mni152_brain_mask\n",
    "from sklearn.model_selection import GridSearchCV\n",
    "from sklearn.model_selection import train_test_split\n",
    "from sklearn.linear_model import Ridge\n",
    "from sklearn.pipeline import Pipeline\n",
    "import pandas as pd\n",
    "import numpy as np"
   ]
  },
  {
   "cell_type": "code",
   "execution_count": 2,
   "metadata": {
    "ExecuteTime": {
     "end_time": "2023-09-22T15:39:01.942682887Z",
     "start_time": "2023-09-22T15:38:49.251041599Z"
    }
   },
   "outputs": [],
   "source": [
    "# Generate 100 simulated fMRI activation maps;\n",
    "MNI = load_mni152_brain_mask(resolution=2)\n",
    "template_data = MNI.get_fdata()\n",
    "data = []\n",
    "target = []\n",
    "\n",
    "for sample in range(100):\n",
    "    noisy_data = template_data.copy()\n",
    "    weight = np.random.normal(0, 1, 1)[0]\n",
    "    noisy_data[noisy_data == 1] = np.random.normal(0, 1, np.sum(template_data == 1)) * weight\n",
    "    if sample == 0:\n",
    "        data = noisy_data.flatten()\n",
    "    else:\n",
    "        data = np.vstack((data, noisy_data.flatten()))\n",
    "    \n",
    "    target.append(weight)"
   ]
  },
  {
   "cell_type": "markdown",
   "metadata": {},
   "source": [
    "### Usage example without Hyperparameter Search"
   ]
  },
  {
   "cell_type": "code",
   "execution_count": 3,
   "metadata": {
    "ExecuteTime": {
     "end_time": "2023-09-22T15:39:25.175537872Z",
     "start_time": "2023-09-22T15:39:01.946138775Z"
    }
   },
   "outputs": [
    {
     "name": "stdout",
     "output_type": "stream",
     "text": [
      "R2:  0.013715633618947275\n"
     ]
    }
   ],
   "source": [
    "# The transformer is sklearn compatible.\n",
    "# This means we can use it inside a sklearn pipeline:\n",
    "model = Pipeline([\n",
    "    (\"trf\", DisplacementInvariantTransformer()),\n",
    "    (\"model\", Ridge())\n",
    "])\n",
    "\n",
    "# Fit the model;\n",
    "X_train, X_test, y_train, y_test = train_test_split(data, target)\n",
    "fit = model.fit(X_train, y_train)\n",
    "\n",
    "# Predict test values and score performance;\n",
    "prediction = fit.predict(X_test)\n",
    "print(\"R2: \", np.corrcoef(prediction, y_test)[0, 1]**2)"
   ]
  },
  {
   "cell_type": "markdown",
   "metadata": {},
   "source": [
    "### Usage example with Hyperparameter Search"
   ]
  },
  {
   "cell_type": "markdown",
   "metadata": {},
   "source": [
    "The transformer comes with its own Hyperparameter Search algorithm, called \"TransformerCV\".\n",
    "The characteristic of this search algorithm is that it takes in any sklearn compatible\n",
    "hyperparameter search class (e.g. GridsearchCV) and embeds it in a workflow tailored \n",
    "for the Displacement Invariant Transformer.\n",
    "\n",
    "It should work with Scikit-Learn Hyper-parameter optimizers:\n",
    "https://scikit-learn.org/stable/modules/classes.html#module-sklearn.model_selection)\n",
    "\n",
    "and the Ray-Tune sklearn API:\n",
    "https://docs.ray.io/en/latest/tune/api/sklearn.html"
   ]
  },
  {
   "cell_type": "code",
   "execution_count": 4,
   "metadata": {
    "ExecuteTime": {
     "end_time": "2023-09-22T15:41:53.810684298Z",
     "start_time": "2023-09-22T15:39:25.152153275Z"
    }
   },
   "outputs": [
    {
     "name": "stdout",
     "output_type": "stream",
     "text": [
      "R2:  0.0044949177926758765\n"
     ]
    }
   ],
   "source": [
    "model = Pipeline([\n",
    "    (\"trf\", DisplacementInvariantTransformer()),\n",
    "    (\"model\", Ridge())\n",
    "])\n",
    "\n",
    "params = {\n",
    "    \"trf__n_peaks\": [100, 200],\n",
    "    \"model__alpha\": [0.5, 1.5]\n",
    "}\n",
    "\n",
    "# Fit the model;\n",
    "X_train, X_test, y_train, y_test = train_test_split(data, target)\n",
    "fit = TransformerCV(model, params, search=GridSearchCV, cv=5, n_jobs=4).fit(X_train, y_train)\n",
    "\n",
    "# Predict test values and score performance;\n",
    "prediction = fit.predict(X_test)\n",
    "print(\"R2: \", np.corrcoef(prediction, y_test)[0, 1]**2)"
   ]
  },
  {
   "cell_type": "markdown",
   "metadata": {},
   "source": [
    "If no search algorithm is given as a parameter, TransformerCV will return an \n",
    "array containing the results of the transformer's fit on all possible parameter\n",
    "combinations (precomputed data)"
   ]
  },
  {
   "cell_type": "code",
   "execution_count": 5,
   "metadata": {
    "ExecuteTime": {
     "end_time": "2023-09-22T15:43:07.213615800Z",
     "start_time": "2023-09-22T15:41:53.792196331Z"
    }
   },
   "outputs": [
    {
     "data": {
      "text/plain": "            0      1                                 2  \\\n0   [n_peaks]  [100]  1e2bf4336622656d183797277c13ca59   \n1   [n_peaks]  [100]  1e2bf4336622656d183797277c13ca59   \n2   [n_peaks]  [200]  7f8c0d06680560c99b240e0914efd140   \n3   [n_peaks]  [200]  7f8c0d06680560c99b240e0914efd140   \n4   [n_peaks]  [100]  a558492fc1c535e7c0f416bfdf1c3cc3   \n5   [n_peaks]  [100]  a558492fc1c535e7c0f416bfdf1c3cc3   \n6   [n_peaks]  [200]  90696c8fd622370b5d1bce6f0ba782ac   \n7   [n_peaks]  [200]  90696c8fd622370b5d1bce6f0ba782ac   \n8   [n_peaks]  [100]  fb796e3765b902e8c8b2e244b656028f   \n9   [n_peaks]  [100]  fb796e3765b902e8c8b2e244b656028f   \n10  [n_peaks]  [200]  8da5523e866a7e04226fc6904ef02bd6   \n11  [n_peaks]  [200]  8da5523e866a7e04226fc6904ef02bd6   \n12  [n_peaks]  [100]  a39e6e35fc1127a80eab435f536cd16f   \n13  [n_peaks]  [100]  a39e6e35fc1127a80eab435f536cd16f   \n14  [n_peaks]  [200]  27d268618a4be31e4a2a1dc81d1e769c   \n15  [n_peaks]  [200]  27d268618a4be31e4a2a1dc81d1e769c   \n16  [n_peaks]  [100]  17e10be23a037795c2e65a472fee6c33   \n17  [n_peaks]  [100]  17e10be23a037795c2e65a472fee6c33   \n18  [n_peaks]  [200]  25303184ffd9d653ccb931f98add3f7c   \n19  [n_peaks]  [200]  25303184ffd9d653ccb931f98add3f7c   \n\n                                                    3  \n0   [[34, 47, 43], [54, 25, 28], [29, 64, 56], [34...  \n1   [[34, 47, 43], [54, 25, 28], [29, 64, 56], [34...  \n2   [[34, 47, 43], [54, 25, 28], [29, 64, 56], [34...  \n3   [[34, 47, 43], [54, 25, 28], [29, 64, 56], [34...  \n4   [[43, 48, 60], [36, 79, 49], [48, 65, 42], [33...  \n5   [[43, 48, 60], [36, 79, 49], [48, 65, 42], [33...  \n6   [[43, 48, 60], [36, 79, 49], [48, 65, 42], [33...  \n7   [[43, 48, 60], [36, 79, 49], [48, 65, 42], [33...  \n8   [[67, 29, 11], [21, 37, 54], [28, 43, 37], [29...  \n9   [[67, 29, 11], [21, 37, 54], [28, 43, 37], [29...  \n10  [[67, 29, 11], [21, 37, 54], [28, 43, 37], [29...  \n11  [[67, 29, 11], [21, 37, 54], [28, 43, 37], [29...  \n12  [[22, 48, 46], [21, 71, 23], [52, 47, 8], [29,...  \n13  [[22, 48, 46], [21, 71, 23], [52, 47, 8], [29,...  \n14  [[22, 48, 46], [21, 71, 23], [52, 47, 8], [29,...  \n15  [[22, 48, 46], [21, 71, 23], [52, 47, 8], [29,...  \n16  [[72, 34, 61], [22, 80, 53], [63, 70, 54], [16...  \n17  [[72, 34, 61], [22, 80, 53], [63, 70, 54], [16...  \n18  [[72, 34, 61], [22, 80, 53], [63, 70, 54], [16...  \n19  [[72, 34, 61], [22, 80, 53], [63, 70, 54], [16...  ",
      "text/html": "<div>\n<style scoped>\n    .dataframe tbody tr th:only-of-type {\n        vertical-align: middle;\n    }\n\n    .dataframe tbody tr th {\n        vertical-align: top;\n    }\n\n    .dataframe thead th {\n        text-align: right;\n    }\n</style>\n<table border=\"1\" class=\"dataframe\">\n  <thead>\n    <tr style=\"text-align: right;\">\n      <th></th>\n      <th>0</th>\n      <th>1</th>\n      <th>2</th>\n      <th>3</th>\n    </tr>\n  </thead>\n  <tbody>\n    <tr>\n      <th>0</th>\n      <td>[n_peaks]</td>\n      <td>[100]</td>\n      <td>1e2bf4336622656d183797277c13ca59</td>\n      <td>[[34, 47, 43], [54, 25, 28], [29, 64, 56], [34...</td>\n    </tr>\n    <tr>\n      <th>1</th>\n      <td>[n_peaks]</td>\n      <td>[100]</td>\n      <td>1e2bf4336622656d183797277c13ca59</td>\n      <td>[[34, 47, 43], [54, 25, 28], [29, 64, 56], [34...</td>\n    </tr>\n    <tr>\n      <th>2</th>\n      <td>[n_peaks]</td>\n      <td>[200]</td>\n      <td>7f8c0d06680560c99b240e0914efd140</td>\n      <td>[[34, 47, 43], [54, 25, 28], [29, 64, 56], [34...</td>\n    </tr>\n    <tr>\n      <th>3</th>\n      <td>[n_peaks]</td>\n      <td>[200]</td>\n      <td>7f8c0d06680560c99b240e0914efd140</td>\n      <td>[[34, 47, 43], [54, 25, 28], [29, 64, 56], [34...</td>\n    </tr>\n    <tr>\n      <th>4</th>\n      <td>[n_peaks]</td>\n      <td>[100]</td>\n      <td>a558492fc1c535e7c0f416bfdf1c3cc3</td>\n      <td>[[43, 48, 60], [36, 79, 49], [48, 65, 42], [33...</td>\n    </tr>\n    <tr>\n      <th>5</th>\n      <td>[n_peaks]</td>\n      <td>[100]</td>\n      <td>a558492fc1c535e7c0f416bfdf1c3cc3</td>\n      <td>[[43, 48, 60], [36, 79, 49], [48, 65, 42], [33...</td>\n    </tr>\n    <tr>\n      <th>6</th>\n      <td>[n_peaks]</td>\n      <td>[200]</td>\n      <td>90696c8fd622370b5d1bce6f0ba782ac</td>\n      <td>[[43, 48, 60], [36, 79, 49], [48, 65, 42], [33...</td>\n    </tr>\n    <tr>\n      <th>7</th>\n      <td>[n_peaks]</td>\n      <td>[200]</td>\n      <td>90696c8fd622370b5d1bce6f0ba782ac</td>\n      <td>[[43, 48, 60], [36, 79, 49], [48, 65, 42], [33...</td>\n    </tr>\n    <tr>\n      <th>8</th>\n      <td>[n_peaks]</td>\n      <td>[100]</td>\n      <td>fb796e3765b902e8c8b2e244b656028f</td>\n      <td>[[67, 29, 11], [21, 37, 54], [28, 43, 37], [29...</td>\n    </tr>\n    <tr>\n      <th>9</th>\n      <td>[n_peaks]</td>\n      <td>[100]</td>\n      <td>fb796e3765b902e8c8b2e244b656028f</td>\n      <td>[[67, 29, 11], [21, 37, 54], [28, 43, 37], [29...</td>\n    </tr>\n    <tr>\n      <th>10</th>\n      <td>[n_peaks]</td>\n      <td>[200]</td>\n      <td>8da5523e866a7e04226fc6904ef02bd6</td>\n      <td>[[67, 29, 11], [21, 37, 54], [28, 43, 37], [29...</td>\n    </tr>\n    <tr>\n      <th>11</th>\n      <td>[n_peaks]</td>\n      <td>[200]</td>\n      <td>8da5523e866a7e04226fc6904ef02bd6</td>\n      <td>[[67, 29, 11], [21, 37, 54], [28, 43, 37], [29...</td>\n    </tr>\n    <tr>\n      <th>12</th>\n      <td>[n_peaks]</td>\n      <td>[100]</td>\n      <td>a39e6e35fc1127a80eab435f536cd16f</td>\n      <td>[[22, 48, 46], [21, 71, 23], [52, 47, 8], [29,...</td>\n    </tr>\n    <tr>\n      <th>13</th>\n      <td>[n_peaks]</td>\n      <td>[100]</td>\n      <td>a39e6e35fc1127a80eab435f536cd16f</td>\n      <td>[[22, 48, 46], [21, 71, 23], [52, 47, 8], [29,...</td>\n    </tr>\n    <tr>\n      <th>14</th>\n      <td>[n_peaks]</td>\n      <td>[200]</td>\n      <td>27d268618a4be31e4a2a1dc81d1e769c</td>\n      <td>[[22, 48, 46], [21, 71, 23], [52, 47, 8], [29,...</td>\n    </tr>\n    <tr>\n      <th>15</th>\n      <td>[n_peaks]</td>\n      <td>[200]</td>\n      <td>27d268618a4be31e4a2a1dc81d1e769c</td>\n      <td>[[22, 48, 46], [21, 71, 23], [52, 47, 8], [29,...</td>\n    </tr>\n    <tr>\n      <th>16</th>\n      <td>[n_peaks]</td>\n      <td>[100]</td>\n      <td>17e10be23a037795c2e65a472fee6c33</td>\n      <td>[[72, 34, 61], [22, 80, 53], [63, 70, 54], [16...</td>\n    </tr>\n    <tr>\n      <th>17</th>\n      <td>[n_peaks]</td>\n      <td>[100]</td>\n      <td>17e10be23a037795c2e65a472fee6c33</td>\n      <td>[[72, 34, 61], [22, 80, 53], [63, 70, 54], [16...</td>\n    </tr>\n    <tr>\n      <th>18</th>\n      <td>[n_peaks]</td>\n      <td>[200]</td>\n      <td>25303184ffd9d653ccb931f98add3f7c</td>\n      <td>[[72, 34, 61], [22, 80, 53], [63, 70, 54], [16...</td>\n    </tr>\n    <tr>\n      <th>19</th>\n      <td>[n_peaks]</td>\n      <td>[200]</td>\n      <td>25303184ffd9d653ccb931f98add3f7c</td>\n      <td>[[72, 34, 61], [22, 80, 53], [63, 70, 54], [16...</td>\n    </tr>\n  </tbody>\n</table>\n</div>"
     },
     "execution_count": 5,
     "metadata": {},
     "output_type": "execute_result"
    }
   ],
   "source": [
    "model = Pipeline([\n",
    "    (\"trf\", DisplacementInvariantTransformer()),\n",
    "    (\"model\", Ridge())\n",
    "])\n",
    "\n",
    "params = {\n",
    "    \"trf__n_peaks\": [100, 200],\n",
    "    \"model__alpha\": [0.5, 1.5]\n",
    "}\n",
    "\n",
    "# Fit the model;\n",
    "X_train, X_test, y_train, y_test = train_test_split(data, target)\n",
    "fit = TransformerCV(model, params, search=None, cv=5, n_jobs=4).fit(X_train, y_train)\n",
    "pd.DataFrame(fit)"
   ]
  },
  {
   "cell_type": "markdown",
   "metadata": {},
   "source": [
    "Precomputed data contains information about the coordinates of important voxels for each combination of hyperparameters. This allows us to test the performance of our model on our data in a second moment, skipping the transformer fitting step."
   ]
  },
  {
   "cell_type": "code",
   "execution_count": 6,
   "metadata": {
    "ExecuteTime": {
     "end_time": "2023-09-22T15:44:27.015240662Z",
     "start_time": "2023-09-22T15:43:07.172056711Z"
    }
   },
   "outputs": [
    {
     "name": "stdout",
     "output_type": "stream",
     "text": [
      "R2:  0.010873188774875343\n"
     ]
    }
   ],
   "source": [
    "# Test performance for each set of coordinate and every combination of hyperparameters without refitting:\n",
    "model = Pipeline([\n",
    "    (\"trf\", DisplacementInvariantTransformer(precomp=fit)),\n",
    "    (\"model\", Ridge())\n",
    "])\n",
    "\n",
    "search = GridSearchCV(\n",
    "    model,\n",
    "    params,\n",
    "    cv=5,\n",
    "    n_jobs=4\n",
    ").fit(X_train, y_train)\n",
    "\n",
    "# Predict test values and score performance;\n",
    "search.predict(X_test)\n",
    "print(\"R2: \", np.corrcoef(prediction, y_test)[0, 1]**2)"
   ]
  }
 ],
 "metadata": {
  "kernelspec": {
   "display_name": "sklearn",
   "language": "python",
   "name": "python3"
  },
  "language_info": {
   "codemirror_mode": {
    "name": "ipython",
    "version": 3
   },
   "file_extension": ".py",
   "mimetype": "text/x-python",
   "name": "python",
   "nbconvert_exporter": "python",
   "pygments_lexer": "ipython3",
   "version": "3.9.13"
  },
  "orig_nbformat": 4
 },
 "nbformat": 4,
 "nbformat_minor": 2
}

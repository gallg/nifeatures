{
 "cells": [
  {
   "cell_type": "markdown",
   "metadata": {},
   "source": [
    "### Displacement Invariant Transformer (**Simple** usage example)\n",
    "\n",
    "for more complex usage, please check the documentation: *ToDo: add documentation*"
   ]
  },
  {
   "cell_type": "code",
   "metadata": {
    "ExecuteTime": {
     "end_time": "2024-07-30T10:09:43.578125Z",
     "start_time": "2024-07-30T10:09:42.889049Z"
    }
   },
   "source": [
    "import os\n",
    "os.chdir(\"..\")\n",
    "\n",
    "from nifeatures.transform import DisplacementInvariantTransformer\n",
    "from nifeatures.search import TransformerCV\n",
    "from nilearn.datasets import load_mni152_brain_mask\n",
    "from sklearn.model_selection import GridSearchCV\n",
    "from sklearn.model_selection import train_test_split\n",
    "from sklearn.linear_model import Ridge\n",
    "from sklearn.pipeline import Pipeline\n",
    "import pandas as pd\n",
    "import numpy as np"
   ],
   "outputs": [],
   "execution_count": 1
  },
  {
   "cell_type": "code",
   "metadata": {
    "ExecuteTime": {
     "end_time": "2024-07-30T10:09:50.411673Z",
     "start_time": "2024-07-30T10:09:43.641710Z"
    }
   },
   "source": [
    "# Generate 100 simulated fMRI activation maps;\n",
    "MNI = load_mni152_brain_mask(resolution=2)\n",
    "template_data = MNI.get_fdata()\n",
    "data = []\n",
    "target = []\n",
    "\n",
    "for sample in range(100):\n",
    "    noisy_data = template_data.copy()\n",
    "    weight = np.random.normal(0, 1, 1)[0]\n",
    "    noisy_data[noisy_data == 1] = np.random.normal(0, 1, np.sum(template_data == 1)) * weight\n",
    "    if sample == 0:\n",
    "        data = noisy_data.flatten()\n",
    "    else:\n",
    "        data = np.vstack((data, noisy_data.flatten()))\n",
    "    \n",
    "    target.append(weight)\n"
   ],
   "outputs": [],
   "execution_count": 2
  },
  {
   "cell_type": "markdown",
   "metadata": {},
   "source": [
    "### Check if transformer works (for debugging purposes!)"
   ]
  },
  {
   "cell_type": "code",
   "metadata": {
    "ExecuteTime": {
     "end_time": "2024-07-30T10:05:44.470651Z",
     "start_time": "2024-07-30T10:05:37.179756Z"
    }
   },
   "source": [
    "X_train, X_test, y_train, y_test = train_test_split(data, target)\n",
    "\n",
    "dt = DisplacementInvariantTransformer()\n",
    "dt.fit(X_train, y_train)"
   ],
   "outputs": [
    {
     "name": "stdout",
     "output_type": "stream",
     "text": [
      "not using precomputed data\n"
     ]
    },
    {
     "data": {
      "text/plain": [
       "DisplacementInvariantTransformer(mask=<nibabel.nifti1.Nifti1Image object at 0x10590bd90>)"
      ],
      "text/html": [
       "<style>#sk-container-id-1 {color: black;background-color: white;}#sk-container-id-1 pre{padding: 0;}#sk-container-id-1 div.sk-toggleable {background-color: white;}#sk-container-id-1 label.sk-toggleable__label {cursor: pointer;display: block;width: 100%;margin-bottom: 0;padding: 0.3em;box-sizing: border-box;text-align: center;}#sk-container-id-1 label.sk-toggleable__label-arrow:before {content: \"▸\";float: left;margin-right: 0.25em;color: #696969;}#sk-container-id-1 label.sk-toggleable__label-arrow:hover:before {color: black;}#sk-container-id-1 div.sk-estimator:hover label.sk-toggleable__label-arrow:before {color: black;}#sk-container-id-1 div.sk-toggleable__content {max-height: 0;max-width: 0;overflow: hidden;text-align: left;background-color: #f0f8ff;}#sk-container-id-1 div.sk-toggleable__content pre {margin: 0.2em;color: black;border-radius: 0.25em;background-color: #f0f8ff;}#sk-container-id-1 input.sk-toggleable__control:checked~div.sk-toggleable__content {max-height: 200px;max-width: 100%;overflow: auto;}#sk-container-id-1 input.sk-toggleable__control:checked~label.sk-toggleable__label-arrow:before {content: \"▾\";}#sk-container-id-1 div.sk-estimator input.sk-toggleable__control:checked~label.sk-toggleable__label {background-color: #d4ebff;}#sk-container-id-1 div.sk-label input.sk-toggleable__control:checked~label.sk-toggleable__label {background-color: #d4ebff;}#sk-container-id-1 input.sk-hidden--visually {border: 0;clip: rect(1px 1px 1px 1px);clip: rect(1px, 1px, 1px, 1px);height: 1px;margin: -1px;overflow: hidden;padding: 0;position: absolute;width: 1px;}#sk-container-id-1 div.sk-estimator {font-family: monospace;background-color: #f0f8ff;border: 1px dotted black;border-radius: 0.25em;box-sizing: border-box;margin-bottom: 0.5em;}#sk-container-id-1 div.sk-estimator:hover {background-color: #d4ebff;}#sk-container-id-1 div.sk-parallel-item::after {content: \"\";width: 100%;border-bottom: 1px solid gray;flex-grow: 1;}#sk-container-id-1 div.sk-label:hover label.sk-toggleable__label {background-color: #d4ebff;}#sk-container-id-1 div.sk-serial::before {content: \"\";position: absolute;border-left: 1px solid gray;box-sizing: border-box;top: 0;bottom: 0;left: 50%;z-index: 0;}#sk-container-id-1 div.sk-serial {display: flex;flex-direction: column;align-items: center;background-color: white;padding-right: 0.2em;padding-left: 0.2em;position: relative;}#sk-container-id-1 div.sk-item {position: relative;z-index: 1;}#sk-container-id-1 div.sk-parallel {display: flex;align-items: stretch;justify-content: center;background-color: white;position: relative;}#sk-container-id-1 div.sk-item::before, #sk-container-id-1 div.sk-parallel-item::before {content: \"\";position: absolute;border-left: 1px solid gray;box-sizing: border-box;top: 0;bottom: 0;left: 50%;z-index: -1;}#sk-container-id-1 div.sk-parallel-item {display: flex;flex-direction: column;z-index: 1;position: relative;background-color: white;}#sk-container-id-1 div.sk-parallel-item:first-child::after {align-self: flex-end;width: 50%;}#sk-container-id-1 div.sk-parallel-item:last-child::after {align-self: flex-start;width: 50%;}#sk-container-id-1 div.sk-parallel-item:only-child::after {width: 0;}#sk-container-id-1 div.sk-dashed-wrapped {border: 1px dashed gray;margin: 0 0.4em 0.5em 0.4em;box-sizing: border-box;padding-bottom: 0.4em;background-color: white;}#sk-container-id-1 div.sk-label label {font-family: monospace;font-weight: bold;display: inline-block;line-height: 1.2em;}#sk-container-id-1 div.sk-label-container {text-align: center;}#sk-container-id-1 div.sk-container {/* jupyter's `normalize.less` sets `[hidden] { display: none; }` but bootstrap.min.css set `[hidden] { display: none !important; }` so we also need the `!important` here to be able to override the default hidden behavior on the sphinx rendered scikit-learn.org. See: https://github.com/scikit-learn/scikit-learn/issues/21755 */display: inline-block !important;position: relative;}#sk-container-id-1 div.sk-text-repr-fallback {display: none;}</style><div id=\"sk-container-id-1\" class=\"sk-top-container\"><div class=\"sk-text-repr-fallback\"><pre>DisplacementInvariantTransformer(mask=&lt;nibabel.nifti1.Nifti1Image object at 0x10590bd90&gt;)</pre><b>In a Jupyter environment, please rerun this cell to show the HTML representation or trust the notebook. <br />On GitHub, the HTML representation is unable to render, please try loading this page with nbviewer.org.</b></div><div class=\"sk-container\" hidden><div class=\"sk-item\"><div class=\"sk-estimator sk-toggleable\"><input class=\"sk-toggleable__control sk-hidden--visually\" id=\"sk-estimator-id-1\" type=\"checkbox\" checked><label for=\"sk-estimator-id-1\" class=\"sk-toggleable__label sk-toggleable__label-arrow\">DisplacementInvariantTransformer</label><div class=\"sk-toggleable__content\"><pre>DisplacementInvariantTransformer(mask=&lt;nibabel.nifti1.Nifti1Image object at 0x10590bd90&gt;)</pre></div></div></div></div></div>"
      ]
     },
     "execution_count": 3,
     "metadata": {},
     "output_type": "execute_result"
    }
   ],
   "execution_count": 3
  },
  {
   "cell_type": "code",
   "metadata": {
    "ExecuteTime": {
     "end_time": "2024-07-30T10:05:54.401847Z",
     "start_time": "2024-07-30T10:05:52.244899Z"
    }
   },
   "source": [
    "new_data = dt.transform(X_train)\n",
    "\n",
    "# check shapes;\n",
    "print(\"old shape: \", X_train.shape)\n",
    "print(\"new shape: \", new_data.shape)"
   ],
   "outputs": [
    {
     "name": "stdout",
     "output_type": "stream",
     "text": [
      "transforming data\n",
      "old shape:  (75, 1100385)\n",
      "new shape:  (75, 100)\n"
     ]
    }
   ],
   "execution_count": 4
  },
  {
   "cell_type": "markdown",
   "metadata": {},
   "source": [
    "### Usage example without Hyperparameter Search"
   ]
  },
  {
   "cell_type": "code",
   "metadata": {
    "ExecuteTime": {
     "end_time": "2024-07-30T10:06:20.398388Z",
     "start_time": "2024-07-30T10:06:08.961099Z"
    }
   },
   "source": [
    "# The transformer is sklearn compatible.\n",
    "# This means we can use it inside a sklearn pipeline:\n",
    "model = Pipeline([\n",
    "    (\"trf\", DisplacementInvariantTransformer()),\n",
    "    (\"model\", Ridge())\n",
    "])\n",
    "\n",
    "# Fit the model;\n",
    "X_train, X_test, y_train, y_test = train_test_split(data, target)\n",
    "fit = model.fit(X_train, y_train)\n",
    "\n",
    "# Predict test values and score performance;\n",
    "prediction = fit.predict(X_test)\n",
    "print(\"R2: \", np.corrcoef(prediction, y_test)[0, 1]**2)"
   ],
   "outputs": [
    {
     "name": "stdout",
     "output_type": "stream",
     "text": [
      "not using precomputed data\n",
      "transforming data\n",
      "transforming data\n",
      "R2:  0.12755734767310292\n"
     ]
    }
   ],
   "execution_count": 5
  },
  {
   "cell_type": "markdown",
   "metadata": {},
   "source": [
    "### Usage example with Hyperparameter Search"
   ]
  },
  {
   "cell_type": "markdown",
   "metadata": {},
   "source": [
    "The transformer comes with its own Hyperparameter Search algorithm, called \"TransformerCV\".\n",
    "The characteristic of this search algorithm is that it takes in any sklearn compatible\n",
    "hyperparameter search class (e.g. GridsearchCV) and embeds it in a workflow tailored \n",
    "for the Displacement Invariant Transformer.\n",
    "\n",
    "It should work with Scikit-Learn Hyper-parameter optimizers:\n",
    "https://scikit-learn.org/stable/modules/classes.html#module-sklearn.model_selection)\n",
    "\n",
    "and the Ray-Tune sklearn API:\n",
    "https://docs.ray.io/en/latest/tune/api/sklearn.html"
   ]
  },
  {
   "cell_type": "code",
   "metadata": {
    "ExecuteTime": {
     "end_time": "2024-07-30T10:12:37.304880Z",
     "start_time": "2024-07-30T10:09:50.412647Z"
    }
   },
   "source": [
    "model = Pipeline([\n",
    "    (\"trf\", DisplacementInvariantTransformer()),\n",
    "    (\"model\", Ridge())\n",
    "])\n",
    "\n",
    "params = {\n",
    "    \"trf__n_peaks\": [100, 200],\n",
    "    \"model__alpha\": [0.5, 1.5]\n",
    "}\n",
    "\n",
    "# Fit the model;\n",
    "X_train, X_test, y_train, y_test = train_test_split(data, target)\n",
    "fit = TransformerCV(model, params, search=GridSearchCV, cv=5, n_jobs=4).fit(X_train, y_train)\n",
    "\n",
    "# Predict test values and score performance;\n",
    "prediction = fit.predict(X_test)\n",
    "print(\"R2: \", np.corrcoef(prediction, y_test)[0, 1]**2)"
   ],
   "outputs": [
    {
     "name": "stdout",
     "output_type": "stream",
     "text": [
      "pre-computation started!\n",
      "pre-computation ended!\n",
      "not using precomputed data\n",
      "not using precomputed data\n",
      "not using precomputed data\n",
      "not using precomputed data\n",
      "not using precomputed data\n",
      "not using precomputed data\n",
      "not using precomputed data\n",
      "not using precomputed data\n",
      "not using precomputed data\n",
      "not using precomputed data\n",
      "using precomputed coordinates\n",
      "transforming data\n",
      "transforming data\n",
      "using precomputed coordinates\n",
      "transforming data\n",
      "transforming data\n",
      "using precomputed coordinates\n",
      "transforming data\n",
      "transforming data\n",
      "using precomputed coordinates\n",
      "transforming data\n",
      "transforming data\n",
      "using precomputed coordinates\n",
      "transforming data\n",
      "transforming data\n",
      "using precomputed coordinates\n",
      "transforming data\n",
      "transforming data\n",
      "using precomputed coordinates\n",
      "transforming data\n",
      "transforming data\n",
      "using precomputed coordinates\n",
      "transforming data\n",
      "transforming data\n",
      "using precomputed coordinates\n",
      "transforming data\n",
      "transforming data\n"
     ]
    },
    {
     "ename": "KeyboardInterrupt",
     "evalue": "",
     "output_type": "error",
     "traceback": [
      "\u001B[0;31m---------------------------------------------------------------------------\u001B[0m",
      "\u001B[0;31mKeyboardInterrupt\u001B[0m                         Traceback (most recent call last)",
      "Cell \u001B[0;32mIn[3], line 13\u001B[0m\n\u001B[1;32m     11\u001B[0m \u001B[38;5;66;03m# Fit the model;\u001B[39;00m\n\u001B[1;32m     12\u001B[0m X_train, X_test, y_train, y_test \u001B[38;5;241m=\u001B[39m train_test_split(data, target)\n\u001B[0;32m---> 13\u001B[0m fit \u001B[38;5;241m=\u001B[39m TransformerCV(model, params, search\u001B[38;5;241m=\u001B[39mGridSearchCV, cv\u001B[38;5;241m=\u001B[39m\u001B[38;5;241m5\u001B[39m, n_jobs\u001B[38;5;241m=\u001B[39m\u001B[38;5;241m2\u001B[39m)\u001B[38;5;241m.\u001B[39mfit(X_train, y_train)\n\u001B[1;32m     15\u001B[0m \u001B[38;5;66;03m# Predict test values and score performance;\u001B[39;00m\n\u001B[1;32m     16\u001B[0m prediction \u001B[38;5;241m=\u001B[39m fit\u001B[38;5;241m.\u001B[39mpredict(X_test)\n",
      "File \u001B[0;32m~/Documents/Projects/nifeatures/nifeatures/search.py:210\u001B[0m, in \u001B[0;36mTransformerCV.fit\u001B[0;34m(self, x, y, groups)\u001B[0m\n\u001B[1;32m    199\u001B[0m \u001B[38;5;28msetattr\u001B[39m(\u001B[38;5;28mself\u001B[39m\u001B[38;5;241m.\u001B[39mestimator\u001B[38;5;241m.\u001B[39msteps[\n\u001B[1;32m    200\u001B[0m     \u001B[38;5;28mself\u001B[39m\u001B[38;5;241m.\u001B[39mcheck_transformer_presence \u001B[38;5;129;01mis\u001B[39;00m \u001B[38;5;28;01mTrue\u001B[39;00m][\u001B[38;5;241m1\u001B[39m],\n\u001B[1;32m    201\u001B[0m     \u001B[38;5;124m\"\u001B[39m\u001B[38;5;124mprecomputed\u001B[39m\u001B[38;5;124m\"\u001B[39m,\n\u001B[1;32m    202\u001B[0m     \u001B[38;5;28mself\u001B[39m\u001B[38;5;241m.\u001B[39mprecomputed\n\u001B[1;32m    203\u001B[0m     )\n\u001B[1;32m    205\u001B[0m \u001B[38;5;66;03m# Run GridSearch algorithm;\u001B[39;00m\n\u001B[1;32m    206\u001B[0m search \u001B[38;5;241m=\u001B[39m \u001B[38;5;28mself\u001B[39m\u001B[38;5;241m.\u001B[39msearch(\u001B[38;5;28mself\u001B[39m\u001B[38;5;241m.\u001B[39mestimator,\n\u001B[1;32m    207\u001B[0m                      \u001B[38;5;28mself\u001B[39m\u001B[38;5;241m.\u001B[39mparameters,\n\u001B[1;32m    208\u001B[0m                      scoring\u001B[38;5;241m=\u001B[39m\u001B[38;5;28mself\u001B[39m\u001B[38;5;241m.\u001B[39mscoring,\n\u001B[1;32m    209\u001B[0m                      cv\u001B[38;5;241m=\u001B[39m\u001B[38;5;28mself\u001B[39m\u001B[38;5;241m.\u001B[39mcv,\n\u001B[0;32m--> 210\u001B[0m                      n_jobs\u001B[38;5;241m=\u001B[39m\u001B[38;5;28mself\u001B[39m\u001B[38;5;241m.\u001B[39mn_jobs)\u001B[38;5;241m.\u001B[39mfit(x, y, groups\u001B[38;5;241m=\u001B[39mgroups)\n\u001B[1;32m    212\u001B[0m \u001B[38;5;28;01mreturn\u001B[39;00m search\n",
      "File \u001B[0;32m/opt/anaconda3/envs/pytorch/lib/python3.11/site-packages/sklearn/model_selection/_search.py:874\u001B[0m, in \u001B[0;36mBaseSearchCV.fit\u001B[0;34m(self, X, y, groups, **fit_params)\u001B[0m\n\u001B[1;32m    868\u001B[0m     results \u001B[38;5;241m=\u001B[39m \u001B[38;5;28mself\u001B[39m\u001B[38;5;241m.\u001B[39m_format_results(\n\u001B[1;32m    869\u001B[0m         all_candidate_params, n_splits, all_out, all_more_results\n\u001B[1;32m    870\u001B[0m     )\n\u001B[1;32m    872\u001B[0m     \u001B[38;5;28;01mreturn\u001B[39;00m results\n\u001B[0;32m--> 874\u001B[0m \u001B[38;5;28mself\u001B[39m\u001B[38;5;241m.\u001B[39m_run_search(evaluate_candidates)\n\u001B[1;32m    876\u001B[0m \u001B[38;5;66;03m# multimetric is determined here because in the case of a callable\u001B[39;00m\n\u001B[1;32m    877\u001B[0m \u001B[38;5;66;03m# self.scoring the return type is only known after calling\u001B[39;00m\n\u001B[1;32m    878\u001B[0m first_test_score \u001B[38;5;241m=\u001B[39m all_out[\u001B[38;5;241m0\u001B[39m][\u001B[38;5;124m\"\u001B[39m\u001B[38;5;124mtest_scores\u001B[39m\u001B[38;5;124m\"\u001B[39m]\n",
      "File \u001B[0;32m/opt/anaconda3/envs/pytorch/lib/python3.11/site-packages/sklearn/model_selection/_search.py:1388\u001B[0m, in \u001B[0;36mGridSearchCV._run_search\u001B[0;34m(self, evaluate_candidates)\u001B[0m\n\u001B[1;32m   1386\u001B[0m \u001B[38;5;28;01mdef\u001B[39;00m \u001B[38;5;21m_run_search\u001B[39m(\u001B[38;5;28mself\u001B[39m, evaluate_candidates):\n\u001B[1;32m   1387\u001B[0m \u001B[38;5;250m    \u001B[39m\u001B[38;5;124;03m\"\"\"Search all candidates in param_grid\"\"\"\u001B[39;00m\n\u001B[0;32m-> 1388\u001B[0m     evaluate_candidates(ParameterGrid(\u001B[38;5;28mself\u001B[39m\u001B[38;5;241m.\u001B[39mparam_grid))\n",
      "File \u001B[0;32m/opt/anaconda3/envs/pytorch/lib/python3.11/site-packages/sklearn/model_selection/_search.py:821\u001B[0m, in \u001B[0;36mBaseSearchCV.fit.<locals>.evaluate_candidates\u001B[0;34m(candidate_params, cv, more_results)\u001B[0m\n\u001B[1;32m    813\u001B[0m \u001B[38;5;28;01mif\u001B[39;00m \u001B[38;5;28mself\u001B[39m\u001B[38;5;241m.\u001B[39mverbose \u001B[38;5;241m>\u001B[39m \u001B[38;5;241m0\u001B[39m:\n\u001B[1;32m    814\u001B[0m     \u001B[38;5;28mprint\u001B[39m(\n\u001B[1;32m    815\u001B[0m         \u001B[38;5;124m\"\u001B[39m\u001B[38;5;124mFitting \u001B[39m\u001B[38;5;132;01m{0}\u001B[39;00m\u001B[38;5;124m folds for each of \u001B[39m\u001B[38;5;132;01m{1}\u001B[39;00m\u001B[38;5;124m candidates,\u001B[39m\u001B[38;5;124m\"\u001B[39m\n\u001B[1;32m    816\u001B[0m         \u001B[38;5;124m\"\u001B[39m\u001B[38;5;124m totalling \u001B[39m\u001B[38;5;132;01m{2}\u001B[39;00m\u001B[38;5;124m fits\u001B[39m\u001B[38;5;124m\"\u001B[39m\u001B[38;5;241m.\u001B[39mformat(\n\u001B[1;32m    817\u001B[0m             n_splits, n_candidates, n_candidates \u001B[38;5;241m*\u001B[39m n_splits\n\u001B[1;32m    818\u001B[0m         )\n\u001B[1;32m    819\u001B[0m     )\n\u001B[0;32m--> 821\u001B[0m out \u001B[38;5;241m=\u001B[39m parallel(\n\u001B[1;32m    822\u001B[0m     delayed(_fit_and_score)(\n\u001B[1;32m    823\u001B[0m         clone(base_estimator),\n\u001B[1;32m    824\u001B[0m         X,\n\u001B[1;32m    825\u001B[0m         y,\n\u001B[1;32m    826\u001B[0m         train\u001B[38;5;241m=\u001B[39mtrain,\n\u001B[1;32m    827\u001B[0m         test\u001B[38;5;241m=\u001B[39mtest,\n\u001B[1;32m    828\u001B[0m         parameters\u001B[38;5;241m=\u001B[39mparameters,\n\u001B[1;32m    829\u001B[0m         split_progress\u001B[38;5;241m=\u001B[39m(split_idx, n_splits),\n\u001B[1;32m    830\u001B[0m         candidate_progress\u001B[38;5;241m=\u001B[39m(cand_idx, n_candidates),\n\u001B[1;32m    831\u001B[0m         \u001B[38;5;241m*\u001B[39m\u001B[38;5;241m*\u001B[39mfit_and_score_kwargs,\n\u001B[1;32m    832\u001B[0m     )\n\u001B[1;32m    833\u001B[0m     \u001B[38;5;28;01mfor\u001B[39;00m (cand_idx, parameters), (split_idx, (train, test)) \u001B[38;5;129;01min\u001B[39;00m product(\n\u001B[1;32m    834\u001B[0m         \u001B[38;5;28menumerate\u001B[39m(candidate_params), \u001B[38;5;28menumerate\u001B[39m(cv\u001B[38;5;241m.\u001B[39msplit(X, y, groups))\n\u001B[1;32m    835\u001B[0m     )\n\u001B[1;32m    836\u001B[0m )\n\u001B[1;32m    838\u001B[0m \u001B[38;5;28;01mif\u001B[39;00m \u001B[38;5;28mlen\u001B[39m(out) \u001B[38;5;241m<\u001B[39m \u001B[38;5;241m1\u001B[39m:\n\u001B[1;32m    839\u001B[0m     \u001B[38;5;28;01mraise\u001B[39;00m \u001B[38;5;167;01mValueError\u001B[39;00m(\n\u001B[1;32m    840\u001B[0m         \u001B[38;5;124m\"\u001B[39m\u001B[38;5;124mNo fits were performed. \u001B[39m\u001B[38;5;124m\"\u001B[39m\n\u001B[1;32m    841\u001B[0m         \u001B[38;5;124m\"\u001B[39m\u001B[38;5;124mWas the CV iterator empty? \u001B[39m\u001B[38;5;124m\"\u001B[39m\n\u001B[1;32m    842\u001B[0m         \u001B[38;5;124m\"\u001B[39m\u001B[38;5;124mWere there no candidates?\u001B[39m\u001B[38;5;124m\"\u001B[39m\n\u001B[1;32m    843\u001B[0m     )\n",
      "File \u001B[0;32m/opt/anaconda3/envs/pytorch/lib/python3.11/site-packages/sklearn/utils/parallel.py:63\u001B[0m, in \u001B[0;36mParallel.__call__\u001B[0;34m(self, iterable)\u001B[0m\n\u001B[1;32m     58\u001B[0m config \u001B[38;5;241m=\u001B[39m get_config()\n\u001B[1;32m     59\u001B[0m iterable_with_config \u001B[38;5;241m=\u001B[39m (\n\u001B[1;32m     60\u001B[0m     (_with_config(delayed_func, config), args, kwargs)\n\u001B[1;32m     61\u001B[0m     \u001B[38;5;28;01mfor\u001B[39;00m delayed_func, args, kwargs \u001B[38;5;129;01min\u001B[39;00m iterable\n\u001B[1;32m     62\u001B[0m )\n\u001B[0;32m---> 63\u001B[0m \u001B[38;5;28;01mreturn\u001B[39;00m \u001B[38;5;28msuper\u001B[39m()\u001B[38;5;241m.\u001B[39m\u001B[38;5;21m__call__\u001B[39m(iterable_with_config)\n",
      "File \u001B[0;32m/opt/anaconda3/envs/pytorch/lib/python3.11/site-packages/joblib/parallel.py:1098\u001B[0m, in \u001B[0;36mParallel.__call__\u001B[0;34m(self, iterable)\u001B[0m\n\u001B[1;32m   1095\u001B[0m     \u001B[38;5;28mself\u001B[39m\u001B[38;5;241m.\u001B[39m_iterating \u001B[38;5;241m=\u001B[39m \u001B[38;5;28;01mFalse\u001B[39;00m\n\u001B[1;32m   1097\u001B[0m \u001B[38;5;28;01mwith\u001B[39;00m \u001B[38;5;28mself\u001B[39m\u001B[38;5;241m.\u001B[39m_backend\u001B[38;5;241m.\u001B[39mretrieval_context():\n\u001B[0;32m-> 1098\u001B[0m     \u001B[38;5;28mself\u001B[39m\u001B[38;5;241m.\u001B[39mretrieve()\n\u001B[1;32m   1099\u001B[0m \u001B[38;5;66;03m# Make sure that we get a last message telling us we are done\u001B[39;00m\n\u001B[1;32m   1100\u001B[0m elapsed_time \u001B[38;5;241m=\u001B[39m time\u001B[38;5;241m.\u001B[39mtime() \u001B[38;5;241m-\u001B[39m \u001B[38;5;28mself\u001B[39m\u001B[38;5;241m.\u001B[39m_start_time\n",
      "File \u001B[0;32m/opt/anaconda3/envs/pytorch/lib/python3.11/site-packages/joblib/parallel.py:975\u001B[0m, in \u001B[0;36mParallel.retrieve\u001B[0;34m(self)\u001B[0m\n\u001B[1;32m    973\u001B[0m \u001B[38;5;28;01mtry\u001B[39;00m:\n\u001B[1;32m    974\u001B[0m     \u001B[38;5;28;01mif\u001B[39;00m \u001B[38;5;28mgetattr\u001B[39m(\u001B[38;5;28mself\u001B[39m\u001B[38;5;241m.\u001B[39m_backend, \u001B[38;5;124m'\u001B[39m\u001B[38;5;124msupports_timeout\u001B[39m\u001B[38;5;124m'\u001B[39m, \u001B[38;5;28;01mFalse\u001B[39;00m):\n\u001B[0;32m--> 975\u001B[0m         \u001B[38;5;28mself\u001B[39m\u001B[38;5;241m.\u001B[39m_output\u001B[38;5;241m.\u001B[39mextend(job\u001B[38;5;241m.\u001B[39mget(timeout\u001B[38;5;241m=\u001B[39m\u001B[38;5;28mself\u001B[39m\u001B[38;5;241m.\u001B[39mtimeout))\n\u001B[1;32m    976\u001B[0m     \u001B[38;5;28;01melse\u001B[39;00m:\n\u001B[1;32m    977\u001B[0m         \u001B[38;5;28mself\u001B[39m\u001B[38;5;241m.\u001B[39m_output\u001B[38;5;241m.\u001B[39mextend(job\u001B[38;5;241m.\u001B[39mget())\n",
      "File \u001B[0;32m/opt/anaconda3/envs/pytorch/lib/python3.11/site-packages/joblib/_parallel_backends.py:567\u001B[0m, in \u001B[0;36mLokyBackend.wrap_future_result\u001B[0;34m(future, timeout)\u001B[0m\n\u001B[1;32m    564\u001B[0m \u001B[38;5;250m\u001B[39m\u001B[38;5;124;03m\"\"\"Wrapper for Future.result to implement the same behaviour as\u001B[39;00m\n\u001B[1;32m    565\u001B[0m \u001B[38;5;124;03mAsyncResults.get from multiprocessing.\"\"\"\u001B[39;00m\n\u001B[1;32m    566\u001B[0m \u001B[38;5;28;01mtry\u001B[39;00m:\n\u001B[0;32m--> 567\u001B[0m     \u001B[38;5;28;01mreturn\u001B[39;00m future\u001B[38;5;241m.\u001B[39mresult(timeout\u001B[38;5;241m=\u001B[39mtimeout)\n\u001B[1;32m    568\u001B[0m \u001B[38;5;28;01mexcept\u001B[39;00m CfTimeoutError \u001B[38;5;28;01mas\u001B[39;00m e:\n\u001B[1;32m    569\u001B[0m     \u001B[38;5;28;01mraise\u001B[39;00m \u001B[38;5;167;01mTimeoutError\u001B[39;00m \u001B[38;5;28;01mfrom\u001B[39;00m \u001B[38;5;21;01me\u001B[39;00m\n",
      "File \u001B[0;32m/opt/anaconda3/envs/pytorch/lib/python3.11/concurrent/futures/_base.py:451\u001B[0m, in \u001B[0;36mFuture.result\u001B[0;34m(self, timeout)\u001B[0m\n\u001B[1;32m    448\u001B[0m \u001B[38;5;28;01melif\u001B[39;00m \u001B[38;5;28mself\u001B[39m\u001B[38;5;241m.\u001B[39m_state \u001B[38;5;241m==\u001B[39m FINISHED:\n\u001B[1;32m    449\u001B[0m     \u001B[38;5;28;01mreturn\u001B[39;00m \u001B[38;5;28mself\u001B[39m\u001B[38;5;241m.\u001B[39m__get_result()\n\u001B[0;32m--> 451\u001B[0m \u001B[38;5;28mself\u001B[39m\u001B[38;5;241m.\u001B[39m_condition\u001B[38;5;241m.\u001B[39mwait(timeout)\n\u001B[1;32m    453\u001B[0m \u001B[38;5;28;01mif\u001B[39;00m \u001B[38;5;28mself\u001B[39m\u001B[38;5;241m.\u001B[39m_state \u001B[38;5;129;01min\u001B[39;00m [CANCELLED, CANCELLED_AND_NOTIFIED]:\n\u001B[1;32m    454\u001B[0m     \u001B[38;5;28;01mraise\u001B[39;00m CancelledError()\n",
      "File \u001B[0;32m/opt/anaconda3/envs/pytorch/lib/python3.11/threading.py:327\u001B[0m, in \u001B[0;36mCondition.wait\u001B[0;34m(self, timeout)\u001B[0m\n\u001B[1;32m    325\u001B[0m \u001B[38;5;28;01mtry\u001B[39;00m:    \u001B[38;5;66;03m# restore state no matter what (e.g., KeyboardInterrupt)\u001B[39;00m\n\u001B[1;32m    326\u001B[0m     \u001B[38;5;28;01mif\u001B[39;00m timeout \u001B[38;5;129;01mis\u001B[39;00m \u001B[38;5;28;01mNone\u001B[39;00m:\n\u001B[0;32m--> 327\u001B[0m         waiter\u001B[38;5;241m.\u001B[39macquire()\n\u001B[1;32m    328\u001B[0m         gotit \u001B[38;5;241m=\u001B[39m \u001B[38;5;28;01mTrue\u001B[39;00m\n\u001B[1;32m    329\u001B[0m     \u001B[38;5;28;01melse\u001B[39;00m:\n",
      "\u001B[0;31mKeyboardInterrupt\u001B[0m: "
     ]
    }
   ],
   "execution_count": 3
  },
  {
   "cell_type": "markdown",
   "metadata": {},
   "source": [
    "If no search algorithm is given as a parameter, TransformerCV will return an \n",
    "array containing the results of the transformer's fit on all possible parameter\n",
    "combinations (precomputed data)"
   ]
  },
  {
   "cell_type": "code",
   "execution_count": 5,
   "metadata": {
    "ExecuteTime": {
     "end_time": "2023-09-22T15:43:07.213615800Z",
     "start_time": "2023-09-22T15:41:53.792196331Z"
    }
   },
   "outputs": [
    {
     "data": {
      "text/html": [
       "<div>\n",
       "<style scoped>\n",
       "    .dataframe tbody tr th:only-of-type {\n",
       "        vertical-align: middle;\n",
       "    }\n",
       "\n",
       "    .dataframe tbody tr th {\n",
       "        vertical-align: top;\n",
       "    }\n",
       "\n",
       "    .dataframe thead th {\n",
       "        text-align: right;\n",
       "    }\n",
       "</style>\n",
       "<table border=\"1\" class=\"dataframe\">\n",
       "  <thead>\n",
       "    <tr style=\"text-align: right;\">\n",
       "      <th></th>\n",
       "      <th>0</th>\n",
       "      <th>1</th>\n",
       "      <th>2</th>\n",
       "      <th>3</th>\n",
       "    </tr>\n",
       "  </thead>\n",
       "  <tbody>\n",
       "    <tr>\n",
       "      <th>0</th>\n",
       "      <td>[n_peaks]</td>\n",
       "      <td>[100]</td>\n",
       "      <td>1e2bf4336622656d183797277c13ca59</td>\n",
       "      <td>[[34, 47, 43], [54, 25, 28], [29, 64, 56], [34...</td>\n",
       "    </tr>\n",
       "    <tr>\n",
       "      <th>1</th>\n",
       "      <td>[n_peaks]</td>\n",
       "      <td>[100]</td>\n",
       "      <td>1e2bf4336622656d183797277c13ca59</td>\n",
       "      <td>[[34, 47, 43], [54, 25, 28], [29, 64, 56], [34...</td>\n",
       "    </tr>\n",
       "    <tr>\n",
       "      <th>2</th>\n",
       "      <td>[n_peaks]</td>\n",
       "      <td>[200]</td>\n",
       "      <td>7f8c0d06680560c99b240e0914efd140</td>\n",
       "      <td>[[34, 47, 43], [54, 25, 28], [29, 64, 56], [34...</td>\n",
       "    </tr>\n",
       "    <tr>\n",
       "      <th>3</th>\n",
       "      <td>[n_peaks]</td>\n",
       "      <td>[200]</td>\n",
       "      <td>7f8c0d06680560c99b240e0914efd140</td>\n",
       "      <td>[[34, 47, 43], [54, 25, 28], [29, 64, 56], [34...</td>\n",
       "    </tr>\n",
       "    <tr>\n",
       "      <th>4</th>\n",
       "      <td>[n_peaks]</td>\n",
       "      <td>[100]</td>\n",
       "      <td>a558492fc1c535e7c0f416bfdf1c3cc3</td>\n",
       "      <td>[[43, 48, 60], [36, 79, 49], [48, 65, 42], [33...</td>\n",
       "    </tr>\n",
       "    <tr>\n",
       "      <th>5</th>\n",
       "      <td>[n_peaks]</td>\n",
       "      <td>[100]</td>\n",
       "      <td>a558492fc1c535e7c0f416bfdf1c3cc3</td>\n",
       "      <td>[[43, 48, 60], [36, 79, 49], [48, 65, 42], [33...</td>\n",
       "    </tr>\n",
       "    <tr>\n",
       "      <th>6</th>\n",
       "      <td>[n_peaks]</td>\n",
       "      <td>[200]</td>\n",
       "      <td>90696c8fd622370b5d1bce6f0ba782ac</td>\n",
       "      <td>[[43, 48, 60], [36, 79, 49], [48, 65, 42], [33...</td>\n",
       "    </tr>\n",
       "    <tr>\n",
       "      <th>7</th>\n",
       "      <td>[n_peaks]</td>\n",
       "      <td>[200]</td>\n",
       "      <td>90696c8fd622370b5d1bce6f0ba782ac</td>\n",
       "      <td>[[43, 48, 60], [36, 79, 49], [48, 65, 42], [33...</td>\n",
       "    </tr>\n",
       "    <tr>\n",
       "      <th>8</th>\n",
       "      <td>[n_peaks]</td>\n",
       "      <td>[100]</td>\n",
       "      <td>fb796e3765b902e8c8b2e244b656028f</td>\n",
       "      <td>[[67, 29, 11], [21, 37, 54], [28, 43, 37], [29...</td>\n",
       "    </tr>\n",
       "    <tr>\n",
       "      <th>9</th>\n",
       "      <td>[n_peaks]</td>\n",
       "      <td>[100]</td>\n",
       "      <td>fb796e3765b902e8c8b2e244b656028f</td>\n",
       "      <td>[[67, 29, 11], [21, 37, 54], [28, 43, 37], [29...</td>\n",
       "    </tr>\n",
       "    <tr>\n",
       "      <th>10</th>\n",
       "      <td>[n_peaks]</td>\n",
       "      <td>[200]</td>\n",
       "      <td>8da5523e866a7e04226fc6904ef02bd6</td>\n",
       "      <td>[[67, 29, 11], [21, 37, 54], [28, 43, 37], [29...</td>\n",
       "    </tr>\n",
       "    <tr>\n",
       "      <th>11</th>\n",
       "      <td>[n_peaks]</td>\n",
       "      <td>[200]</td>\n",
       "      <td>8da5523e866a7e04226fc6904ef02bd6</td>\n",
       "      <td>[[67, 29, 11], [21, 37, 54], [28, 43, 37], [29...</td>\n",
       "    </tr>\n",
       "    <tr>\n",
       "      <th>12</th>\n",
       "      <td>[n_peaks]</td>\n",
       "      <td>[100]</td>\n",
       "      <td>a39e6e35fc1127a80eab435f536cd16f</td>\n",
       "      <td>[[22, 48, 46], [21, 71, 23], [52, 47, 8], [29,...</td>\n",
       "    </tr>\n",
       "    <tr>\n",
       "      <th>13</th>\n",
       "      <td>[n_peaks]</td>\n",
       "      <td>[100]</td>\n",
       "      <td>a39e6e35fc1127a80eab435f536cd16f</td>\n",
       "      <td>[[22, 48, 46], [21, 71, 23], [52, 47, 8], [29,...</td>\n",
       "    </tr>\n",
       "    <tr>\n",
       "      <th>14</th>\n",
       "      <td>[n_peaks]</td>\n",
       "      <td>[200]</td>\n",
       "      <td>27d268618a4be31e4a2a1dc81d1e769c</td>\n",
       "      <td>[[22, 48, 46], [21, 71, 23], [52, 47, 8], [29,...</td>\n",
       "    </tr>\n",
       "    <tr>\n",
       "      <th>15</th>\n",
       "      <td>[n_peaks]</td>\n",
       "      <td>[200]</td>\n",
       "      <td>27d268618a4be31e4a2a1dc81d1e769c</td>\n",
       "      <td>[[22, 48, 46], [21, 71, 23], [52, 47, 8], [29,...</td>\n",
       "    </tr>\n",
       "    <tr>\n",
       "      <th>16</th>\n",
       "      <td>[n_peaks]</td>\n",
       "      <td>[100]</td>\n",
       "      <td>17e10be23a037795c2e65a472fee6c33</td>\n",
       "      <td>[[72, 34, 61], [22, 80, 53], [63, 70, 54], [16...</td>\n",
       "    </tr>\n",
       "    <tr>\n",
       "      <th>17</th>\n",
       "      <td>[n_peaks]</td>\n",
       "      <td>[100]</td>\n",
       "      <td>17e10be23a037795c2e65a472fee6c33</td>\n",
       "      <td>[[72, 34, 61], [22, 80, 53], [63, 70, 54], [16...</td>\n",
       "    </tr>\n",
       "    <tr>\n",
       "      <th>18</th>\n",
       "      <td>[n_peaks]</td>\n",
       "      <td>[200]</td>\n",
       "      <td>25303184ffd9d653ccb931f98add3f7c</td>\n",
       "      <td>[[72, 34, 61], [22, 80, 53], [63, 70, 54], [16...</td>\n",
       "    </tr>\n",
       "    <tr>\n",
       "      <th>19</th>\n",
       "      <td>[n_peaks]</td>\n",
       "      <td>[200]</td>\n",
       "      <td>25303184ffd9d653ccb931f98add3f7c</td>\n",
       "      <td>[[72, 34, 61], [22, 80, 53], [63, 70, 54], [16...</td>\n",
       "    </tr>\n",
       "  </tbody>\n",
       "</table>\n",
       "</div>"
      ],
      "text/plain": [
       "            0      1                                 2  \\\n",
       "0   [n_peaks]  [100]  1e2bf4336622656d183797277c13ca59   \n",
       "1   [n_peaks]  [100]  1e2bf4336622656d183797277c13ca59   \n",
       "2   [n_peaks]  [200]  7f8c0d06680560c99b240e0914efd140   \n",
       "3   [n_peaks]  [200]  7f8c0d06680560c99b240e0914efd140   \n",
       "4   [n_peaks]  [100]  a558492fc1c535e7c0f416bfdf1c3cc3   \n",
       "5   [n_peaks]  [100]  a558492fc1c535e7c0f416bfdf1c3cc3   \n",
       "6   [n_peaks]  [200]  90696c8fd622370b5d1bce6f0ba782ac   \n",
       "7   [n_peaks]  [200]  90696c8fd622370b5d1bce6f0ba782ac   \n",
       "8   [n_peaks]  [100]  fb796e3765b902e8c8b2e244b656028f   \n",
       "9   [n_peaks]  [100]  fb796e3765b902e8c8b2e244b656028f   \n",
       "10  [n_peaks]  [200]  8da5523e866a7e04226fc6904ef02bd6   \n",
       "11  [n_peaks]  [200]  8da5523e866a7e04226fc6904ef02bd6   \n",
       "12  [n_peaks]  [100]  a39e6e35fc1127a80eab435f536cd16f   \n",
       "13  [n_peaks]  [100]  a39e6e35fc1127a80eab435f536cd16f   \n",
       "14  [n_peaks]  [200]  27d268618a4be31e4a2a1dc81d1e769c   \n",
       "15  [n_peaks]  [200]  27d268618a4be31e4a2a1dc81d1e769c   \n",
       "16  [n_peaks]  [100]  17e10be23a037795c2e65a472fee6c33   \n",
       "17  [n_peaks]  [100]  17e10be23a037795c2e65a472fee6c33   \n",
       "18  [n_peaks]  [200]  25303184ffd9d653ccb931f98add3f7c   \n",
       "19  [n_peaks]  [200]  25303184ffd9d653ccb931f98add3f7c   \n",
       "\n",
       "                                                    3  \n",
       "0   [[34, 47, 43], [54, 25, 28], [29, 64, 56], [34...  \n",
       "1   [[34, 47, 43], [54, 25, 28], [29, 64, 56], [34...  \n",
       "2   [[34, 47, 43], [54, 25, 28], [29, 64, 56], [34...  \n",
       "3   [[34, 47, 43], [54, 25, 28], [29, 64, 56], [34...  \n",
       "4   [[43, 48, 60], [36, 79, 49], [48, 65, 42], [33...  \n",
       "5   [[43, 48, 60], [36, 79, 49], [48, 65, 42], [33...  \n",
       "6   [[43, 48, 60], [36, 79, 49], [48, 65, 42], [33...  \n",
       "7   [[43, 48, 60], [36, 79, 49], [48, 65, 42], [33...  \n",
       "8   [[67, 29, 11], [21, 37, 54], [28, 43, 37], [29...  \n",
       "9   [[67, 29, 11], [21, 37, 54], [28, 43, 37], [29...  \n",
       "10  [[67, 29, 11], [21, 37, 54], [28, 43, 37], [29...  \n",
       "11  [[67, 29, 11], [21, 37, 54], [28, 43, 37], [29...  \n",
       "12  [[22, 48, 46], [21, 71, 23], [52, 47, 8], [29,...  \n",
       "13  [[22, 48, 46], [21, 71, 23], [52, 47, 8], [29,...  \n",
       "14  [[22, 48, 46], [21, 71, 23], [52, 47, 8], [29,...  \n",
       "15  [[22, 48, 46], [21, 71, 23], [52, 47, 8], [29,...  \n",
       "16  [[72, 34, 61], [22, 80, 53], [63, 70, 54], [16...  \n",
       "17  [[72, 34, 61], [22, 80, 53], [63, 70, 54], [16...  \n",
       "18  [[72, 34, 61], [22, 80, 53], [63, 70, 54], [16...  \n",
       "19  [[72, 34, 61], [22, 80, 53], [63, 70, 54], [16...  "
      ]
     },
     "execution_count": 5,
     "metadata": {},
     "output_type": "execute_result"
    }
   ],
   "source": [
    "model = Pipeline([\n",
    "    (\"trf\", DisplacementInvariantTransformer()),\n",
    "    (\"model\", Ridge())\n",
    "])\n",
    "\n",
    "params = {\n",
    "    \"trf__n_peaks\": [100, 200],\n",
    "    \"model__alpha\": [0.5, 1.5]\n",
    "}\n",
    "\n",
    "# Fit the model;\n",
    "X_train, X_test, y_train, y_test = train_test_split(data, target)\n",
    "fit = TransformerCV(model, params, search=None, cv=5, n_jobs=4).fit(X_train, y_train)\n",
    "pd.DataFrame(fit)"
   ]
  },
  {
   "cell_type": "markdown",
   "metadata": {},
   "source": [
    "Precomputed data contains information about the coordinates of important voxels for each combination of hyperparameters. This allows us to test the performance of our model on our data in a second moment, skipping the transformer fitting step."
   ]
  },
  {
   "cell_type": "code",
   "execution_count": 6,
   "metadata": {
    "ExecuteTime": {
     "end_time": "2023-09-22T15:44:27.015240662Z",
     "start_time": "2023-09-22T15:43:07.172056711Z"
    }
   },
   "outputs": [
    {
     "name": "stdout",
     "output_type": "stream",
     "text": [
      "R2:  0.010873188774875343\n"
     ]
    }
   ],
   "source": [
    "# Test performance for each set of coordinate and every combination of hyperparameters without refitting:\n",
    "model = Pipeline([\n",
    "    (\"trf\", DisplacementInvariantTransformer(precomputed=fit)),\n",
    "    (\"model\", Ridge())\n",
    "])\n",
    "\n",
    "search = GridSearchCV(\n",
    "    model,\n",
    "    params,\n",
    "    cv=5,\n",
    "    n_jobs=4\n",
    ").fit(X_train, y_train)\n",
    "\n",
    "# Predict test values and score performance;\n",
    "search.predict(X_test)\n",
    "print(\"R2: \", np.corrcoef(prediction, y_test)[0, 1]**2)"
   ]
  }
 ],
 "metadata": {
  "kernelspec": {
   "display_name": "sklearn",
   "language": "python",
   "name": "python3"
  },
  "language_info": {
   "codemirror_mode": {
    "name": "ipython",
    "version": 3
   },
   "file_extension": ".py",
   "mimetype": "text/x-python",
   "name": "python",
   "nbconvert_exporter": "python",
   "pygments_lexer": "ipython3",
   "version": "3.11.8"
  },
  "orig_nbformat": 4
 },
 "nbformat": 4,
 "nbformat_minor": 2
}
